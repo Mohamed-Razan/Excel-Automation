{
 "cells": [
  {
   "cell_type": "code",
   "execution_count": 1,
   "metadata": {},
   "outputs": [
    {
     "name": "stdout",
     "output_type": "stream",
     "text": [
      "Requirement already satisfied: openpyxl in c:\\python38\\lib\\site-packages (3.0.10)\n",
      "Requirement already satisfied: et-xmlfile in c:\\python38\\lib\\site-packages (from openpyxl) (1.1.0)\n"
     ]
    },
    {
     "name": "stderr",
     "output_type": "stream",
     "text": [
      "\n",
      "[notice] A new release of pip available: 22.2.2 -> 22.3.1\n",
      "[notice] To update, run: python.exe -m pip install --upgrade pip\n"
     ]
    }
   ],
   "source": [
    "!pip install openpyxl"
   ]
  },
  {
   "cell_type": "code",
   "execution_count": 7,
   "metadata": {},
   "outputs": [
    {
     "name": "stdout",
     "output_type": "stream",
     "text": [
      "https://www.amazon.com/gp/product/B0014X96YS/ref=ppx_yo_dt_b_asin_title_o06_s00?ie=UTF8&psc=1\n",
      "$62.04\n"
     ]
    }
   ],
   "source": [
    "import requests\n",
    "from bs4 import BeautifulSoup\n",
    "from lxml import etree as et\n",
    "import time\n",
    "import random\n",
    "import csv\n",
    "\n",
    "header = {\n",
    "    \"User-Agent\": \"Mozilla/5.0 (Windows NT 10.0; Win64; x64) AppleWebKit/537.36 (KHTML, like Gecko) Chrome/81.0.4044.138 Safari/537.36\",\n",
    "    'Accept': '*/*', 'Accept-Encoding': 'gzip, deflate, br', 'Accept-Language': 'en-GB,en-US;q=0.9,en;q=0.8'\n",
    "}\n",
    "\n",
    "\n",
    "def get_amazon_price(dom):\n",
    "\n",
    "    try:\n",
    "        price = dom.xpath('//span[@class=\"a-offscreen\"]/text()')[0]\n",
    "        return price\n",
    "    except Exception as e:\n",
    "        print(e)\n",
    "        price = 'Not Available'\n",
    "        return price\n",
    "    \n",
    "\n",
    "url = getHyperLink(9,9)\n",
    "response = requests.get(url, headers=header)\n",
    "soup = BeautifulSoup(response.content, 'html.parser')\n",
    "amazon_dom = et.HTML(str(soup))\n",
    "product_price = get_amazon_price(amazon_dom)\n",
    "print(url)\n",
    "print(product_price)"
   ]
  },
  {
   "cell_type": "code",
   "execution_count": 3,
   "metadata": {},
   "outputs": [
    {
     "name": "stdout",
     "output_type": "stream",
     "text": [
      "https://www.amazon.com/IKTCH-Stainless-Kitchen-Adjustable-IKP01-30/dp/B08B3GT7V4/ref=sr_1_37?dchild=1&keywords=Wall+vent+hood+modern&qid=1610662257&sr=8-37\n",
      "list index out of range\n",
      "https://www.amazon.com/gp/product/B0014X96YS/ref=ppx_yo_dt_b_asin_title_o06_s00?ie=UTF8&psc=1\n",
      "https://www.amazon.com/-/es/gp/product/B07R8KNPL1/ref=ppx_yo_dt_b_search_asin_title?ie=UTF8&psc=1\n",
      "https://www.amazon.com/dp/B07NN43N19/ref=sspa_dk_detail_2?psc=1&pd_rd_i=B07NN43N19&pd_rd_w=6irp4&pf_rd_p=811154a9-44b1-49f2-9177-84495098de64&pd_rd_wg=4xNrM&pf_rd_r=N4X8JYRPQ7KFP42E5N1H&pd_rd_r=11878318-371e-4eda-b3b6-4c52968ee3a4&spLa=ZW5jcnlwdGVkUXVhbGlmaWVyPUExTjdFNUUyWERZWlRTJmVuY3J5cHRlZElkPUEwMTI4OTYwMzBIQ0EzTzVZOVZSQSZlbmNyeXB0ZWRBZElkPUEwMDY2NDAzMkg4QVdJNkJDV0YyNCZ3aWRnZXROYW1lPXNwX2RldGFpbF90aGVtYXRpYyZhY3Rpb249Y2xpY2tSZWRpcmVjdCZkb05vdExvZ0NsaWNrPXRydWU=\n",
      "https://www.amazon.com/-/es/reajustan-iluminaci%C3%B3n-seleccionable-deflectores-conversi%C3%B3n/dp/B071GSFKD9/ref=sr_1_5?crid=1OBBUFJY78MLJ&keywords=4%2Bin%2Bled%2Brecessed%2Blight&qid=1659622047&s=hi&sprefix=4in%2Ctools%2C269&sr=1-5&th=1\n",
      "https://www.amazon.com/dp/B07VP5GWSY/ref=cm_sw_r_cp_api_glt_i_TNKKQMSYNKJ1NDMHZJ78?_encoding=UTF8&psc=1\n",
      "https://www.amazon.com/Garbage-Disposal-Aluminum-STAINLESS-CLEESINK/dp/B0716D6BNC/ref=sr_1_2_sspa?crid=2AXIZLI7PKM7B&dchild=1&keywords=garbage+disposal+button&qid=1619376031&sprefix=Garbage+disposal+%2Caps%2C198&sr=8-2-spons&psc=1&smid=AETRILMUFEE1A&spLa=ZW5jcnlwdGVkUXVhbGlmaWVyPUEzQjBDN1VVN0lWTDZDJmVuY3J5cHRlZElkPUEwMjA5OTMwUVdVSFE0NVFWTFZVJmVuY3J5cHRlZEFkSWQ9QTA0ODI0ODBCRjI0OU1OUUo2VEomd2lkZ2V0TmFtZT1zcF9hdGYmYWN0aW9uPWNsaWNrUmVkaXJlY3QmZG9Ob3RMb2dDbGljaz10cnVl\n",
      "https://www.amazon.com/Kungfuking-Automatic-Protector-Countertop-Conference/dp/B083HYPS23/ref=pd_bxgy_2/135-5098825-4989121?_encoding=UTF8&pd_rd_i=B083HYPS23&pd_rd_r=11c8935d-2f8b-4cf6-b148-a0b6fbf1e506&pd_rd_w=06Dsx&pd_rd_wg=PArid&pf_rd_p=fd3ebcd0-c1a2-44cf-aba2-bbf4810b3732&pf_rd_r=05R974KZZKFB2FJZBQTH&psc=1&refRID=05R974KZZKFB2FJZBQTH\n",
      "https://www.amazon.com/gp/product/B07KQNMX3P/ref=ppx_yo_dt_b_asin_title_o06_s00?ie=UTF8&psc=1\n",
      "https://www.amazon.com/gp/product/B01MYAGE6W/ref=ppx_yo_dt_b_asin_title_o01_s00?ie=UTF8&psc=1\n",
      "https://www.amazon.com/dp/B089VT3591/ref=cm_sw_r_oth_api_glt_i_YCCW2TYB6XBYQJEVQFG0?_encoding=UTF8&th=1\n",
      "https://www.amazon.com/TNOMS-Bathroom-Hardware-Accessories-Stainless/dp/B07WMFQJB4/ref=sxts_sxwds-bia-wc-rsf-lq2a1_0?crid=1M0DWEKYUX8JY&cv_ct_cx=bathroom%2Baccessories&dchild=1&keywords=bathroom%2Baccessories&pd_rd_i=B07WMFQJB4&pd_rd_r=079dc8dc-fbfa-4e3e-93be-84049696e441&pd_rd_w=IXTxD&pd_rd_wg=jTMMW&pf_rd_p=52f9c563-bb87-44f4-9d9d-e1c03402d90f&pf_rd_r=1KZH3JTR4WREVKYQVXRH&qid=1611093161&s=hi&sprefix=bathroomacce%2Ctools%2C300&sr=1-1-d3e58e83-6458-471c-a87e-175495b96a10&th=1\n",
      "https://www.amazon.com/-/es/dp/B07TXZX6J8/ref=twister_B08Q7VT4XN?_encoding=UTF8&th=1\n",
      "https://www.amazon.com/Ascher-Equivalent-Brightness-Daylight-Filament/dp/B07D11MVV8/ref=pd_bxgy_img_3/135-5098825-4989121?_encoding=UTF8&pd_rd_i=B07D11MVV8&pd_rd_r=546ff6a4-5d79-4e43-9afa-2b2e034396e7&pd_rd_w=mZ2Db&pd_rd_wg=CW6QY&pf_rd_p=f325d01c-4658-4593-be83-3e12ca663f0e&pf_rd_r=F766VRKF2X3SES2327CY&psc=1&refRID=F766VRKF2X3SES2327CY\n",
      "https://www.amazon.com/Panasonic-WhisperRemodel-0-8-Sone-110-CFM-Bathroom/dp/B0851PFVG9/ref=sr_1_1?dchild=1&keywords=80+cfm+panasonic&qid=1611089418&s=hi&sr=1-1\n",
      "list index out of range\n",
      "https://www.amazon.com/dp/B0773V9JC9/ref=cm_sw_r_wa_api_glt_fabc_H720EG270S0VF0SZ7QP2?_encoding=UTF8&psc=1\n",
      "https://www.amazon.com/gp/product/B07WZYNLFS/ref=ppx_yo_dt_b_asin_title_o08_s02?ie=UTF8&psc=1\n",
      "https://www.amazon.com/gp/product/B07XHKMWMR/ref=ppx_yo_dt_b_asin_title_o03_s00?ie=UTF8&psc=1\n",
      "list index out of range\n",
      "https://www.amazon.com/gp/product/B071GQXFV7/ref=ppx_yo_dt_b_search_asin_title?ie=UTF8&psc=1\n",
      "list index out of range\n",
      "https://www.amazon.com/gp/product/B07HN1LDZV/ref=ppx_yo_dt_b_search_asin_title?ie=UTF8&psc=1\n",
      "https://www.amazon.com/dp/B089VT3591/ref=cm_sw_r_oth_api_glt_i_YCCW2TYB6XBYQJEVQFG0?_encoding=UTF8&th=1\n",
      "https://www.amazon.com/TNOMS-Bathroom-Hardware-Accessories-Stainless/dp/B07WMFQJB4/ref=sxts_sxwds-bia-wc-rsf-lq2a1_0?crid=1M0DWEKYUX8JY&cv_ct_cx=bathroom%2Baccessories&dchild=1&keywords=bathroom%2Baccessories&pd_rd_i=B07WMFQJB4&pd_rd_r=079dc8dc-fbfa-4e3e-93be-84049696e441&pd_rd_w=IXTxD&pd_rd_wg=jTMMW&pf_rd_p=52f9c563-bb87-44f4-9d9d-e1c03402d90f&pf_rd_r=1KZH3JTR4WREVKYQVXRH&qid=1611093161&s=hi&sprefix=bathroomacce%2Ctools%2C300&sr=1-1-d3e58e83-6458-471c-a87e-175495b96a10&th=1\n",
      "https://www.amazon.com/dp/B07TXZX6J8/ref=twister_B08Q7VT4XN?_encoding=UTF8&psc=1\n",
      "https://www.amazon.com/Panasonic-WhisperRemodel-0-8-Sone-110-CFM-Bathroom/dp/B0851PFVG9/ref=sr_1_1?dchild=1&keywords=80+cfm+panasonic&qid=1611089418&s=hi&sr=1-1\n",
      "list index out of range\n",
      "https://www.amazon.com/dp/B07NM5B3QS/ref=cm_sw_r_wa_api_glt_fabc_G4QWSV2KSYZ4DW2CYMFF?th=1\n",
      "https://www.amazon.com/-/es/gp/product/B0797PTJ5D/ref=ox_sc_act_image_1?smid=AFYZNN7ULQWBK&amp=undefined&language=en_US&th=1\n",
      "https://www.amazon.com/dp/B07WDTYDSX/ref=cm_sw_r_wa_api_glt_fabc_6DNM0XX2VVS8307XGKB3?_encoding=UTF8&th=1\n",
      "https://www.amazon.com/-/es/Kingston-Brass-DTL5303A0-drenaje-rebosadero/dp/B07FWM8WHK/ref=sr_1_4?__mk_es_US=%C3%85M%C3%85%C5%BD%C3%95%C3%91&dchild=1&keywords=tub%2Bdrain%2Bstopper%2B%26%2Boverflow%2Bplate%2Bblack&qid=1628964475&s=hi&sr=1-4&th=1\n",
      "https://www.amazon.com/dp/B089VT3591/ref=cm_sw_r_oth_api_glt_i_YCCW2TYB6XBYQJEVQFG0?_encoding=UTF8&th=1\n",
      "https://www.amazon.com/TNOMS-Bathroom-Hardware-Accessories-Stainless/dp/B07WMFQJB4/ref=sxts_sxwds-bia-wc-rsf-lq2a1_0?crid=1M0DWEKYUX8JY&cv_ct_cx=bathroom%2Baccessories&dchild=1&keywords=bathroom%2Baccessories&pd_rd_i=B07WMFQJB4&pd_rd_r=079dc8dc-fbfa-4e3e-93be-84049696e441&pd_rd_w=IXTxD&pd_rd_wg=jTMMW&pf_rd_p=52f9c563-bb87-44f4-9d9d-e1c03402d90f&pf_rd_r=1KZH3JTR4WREVKYQVXRH&qid=1611093161&s=hi&sprefix=bathroomacce%2Ctools%2C300&sr=1-1-d3e58e83-6458-471c-a87e-175495b96a10&th=1\n",
      "https://www.amazon.com/dp/B07TXZX6J8/ref=twister_B08Q7VT4XN?_encoding=UTF8&psc=1\n",
      "https://www.amazon.com/Panasonic-WhisperRemodel-0-8-Sone-110-CFM-Bathroom/dp/B0851PFVG9/ref=sr_1_1?dchild=1&keywords=80+cfm+panasonic&qid=1611089418&s=hi&sr=1-1\n",
      "list index out of range\n",
      "https://www.amazon.com/dp/B07NM5B3QS/ref=cm_sw_r_wa_api_glt_fabc_G4QWSV2KSYZ4DW2CYMFF?th=1\n",
      "https://www.amazon.com/-/es/gp/product/B0797PTJ5D/ref=ox_sc_act_image_1?smid=AFYZNN7ULQWBK&amp=undefined&language=en_US&th=1\n",
      "https://www.amazon.com/dp/B07WDTYDSX/ref=cm_sw_r_wa_api_glt_fabc_6DNM0XX2VVS8307XGKB3?_encoding=UTF8&th=1\n",
      "https://www.amazon.com/-/es/Kingston-Brass-DTL5303A0-drenaje-rebosadero/dp/B07FWM8WHK/ref=sr_1_4?__mk_es_US=%C3%85M%C3%85%C5%BD%C3%95%C3%91&dchild=1&keywords=tub%2Bdrain%2Bstopper%2B%26%2Boverflow%2Bplate%2Bblack&qid=1628964475&s=hi&sr=1-4&th=1\n",
      "https://www.amazon.com/Panasonic-WhisperRemodel-0-8-Sone-110-CFM-Bathroom/dp/B0851PFVG9/ref=sr_1_1?dchild=1&keywords=80+cfm+panasonic&qid=1611089418&s=hi&sr=1-1\n",
      "list index out of range\n",
      "https://www.amazon.com/gp/product/B07KQNMX3P/ref=ppx_yo_dt_b_asin_title_o06_s00?ie=UTF8&psc=1\n",
      "https://www.amazon.com/dp/B084ZGP4CK/ref=sspa_dk_detail_1?psc=1&pd_rd_i=B084ZGP4CK&pd_rd_w=kfhyr&pf_rd_p=811154a9-44b1-49f2-9177-84495098de64&pd_rd_wg=L9NrU&pf_rd_r=ETWA7KQRWBJ6ZEXB3KZY&pd_rd_r=51cb1592-2724-4895-a725-8bb35fec476c&spLa=ZW5jcnlwdGVkUXVhbGlmaWVyPUFVUDVRVUk2UldLTkImZW5jcnlwdGVkSWQ9QTA4NTEyMzdEV1lSQzYzRDNRSzYmZW5jcnlwdGVkQWRJZD1BMDE2ODc3NTJHQVhEN1VQQVJJNzAmd2lkZ2V0TmFtZT1zcF9kZXRhaWxfdGhlbWF0aWMmYWN0aW9uPWNsaWNrUmVkaXJlY3QmZG9Ob3RMb2dDbGljaz10cnVl\n",
      "https://www.amazon.com/Faucet-Stainless-Steel-Kitchen-Bathroom/dp/B075294KMD/ref=pd_bxgy_2/135-5098825-4989121?_encoding=UTF8&pd_rd_i=B075294KMD&pd_rd_r=dde6592c-a5c2-4cba-8bbe-62a105e08294&pd_rd_w=WKV46&pd_rd_wg=FumZ1&pf_rd_p=f325d01c-4658-4593-be83-3e12ca663f0e&pf_rd_r=GXQSZB0NDQW18261S9WF&psc=1&refRID=GXQSZB0NDQW18261S9WF\n",
      "https://www.amazon.com/Franklin-Brass-MAX46-FB-Maxted-Towel/dp/B07T4VS6GB/ref=sr_1_12?dchild=1&keywords=towel+ring&qid=1611094105&s=hi&sr=1-12\n",
      "https://www.amazon.com/HITCH-Square-Stainless-Bathroom-Kitchen/dp/B07RXQ8W1C/ref=pd_di_sccai_6?pd_rd_w=klusi&pf_rd_p=c9443270-b914-4430-a90b-72e3e7e784e0&pf_rd_r=4J3DB5MDF8NRFGYRBWVQ&pd_rd_r=0b880fb9-9ac7-4419-bee7-747cbf353302&pd_rd_wg=MoAlG&pd_rd_i=B07RXQ8W1C&psc=1\n"
     ]
    },
    {
     "name": "stdout",
     "output_type": "stream",
     "text": [
      "https://www.amazon.com/dp/B07TXZX6J8/ref=twister_B08Q7VT4XN?_encoding=UTF8&psc=1\n",
      "https://www.amazon.com/Panasonic-WhisperRemodel-0-8-Sone-110-CFM-Bathroom/dp/B0851PFVG9/ref=sr_1_1?dchild=1&keywords=80+cfm+panasonic&qid=1611089418&s=hi&sr=1-1\n",
      "list index out of range\n",
      "https://www.amazon.com/ZUKKI-Single-Handle-Bathroom-Fixtures-2219-07B/dp/B081LT6D6H/ref=sr_1_32_sspa?crid=4BQ2S9HD7J45&dchild=1&keywords=wall+faucets+bathroom+sink&qid=1610664881&s=hi&sprefix=wall+fau%2Ctools%2C185&sr=1-32-spons&psc=1&spLa=ZW5jcnlwdGVkUXVhbGlmaWVyPUEzSzUxSlVCVTVROENCJmVuY3J5cHRlZElkPUEwODAwMDI2MjIzOUhUUjVES0xTNiZlbmNyeXB0ZWRBZElkPUEwNzc3ODk2MVhBRkpJSEJSUjlEVyZ3aWRnZXROYW1lPXNwX2J0ZiZhY3Rpb249Y2xpY2tSZWRpcmVjdCZkb05vdExvZ0NsaWNrPXRydWU=\n",
      "https://www.amazon.com/Neutral-Integrated-Profile-Flushmount-Certified/dp/B07V3LQ3NF/ref=pd_sbs_1?pd_rd_w=RrZzV&pf_rd_p=c52600a3-624a-4791-b4c4-3b112e19fbbc&pf_rd_r=0BNWPKVG7NRB068VHSY8&pd_rd_r=b427f7ec-0102-4074-ae81-e95a30a37155&pd_rd_wg=Nig18&pd_rd_i=B07V3LQ3NF&psc=1\n",
      "list index out of range\n",
      "https://www.amazon.com/Premium-Handle-Hardware-Handles-Interior/dp/B07CG5B7W3/ref=sr_1_15_sspa?crid=2GOYDRV08QR8U&dchild=1&keywords=hardware+door+handles&qid=1610728982&s=hi&sprefix=hardware+door%2Ctools%2C221&sr=1-15-spons&psc=1&spLa=ZW5jcnlwdGVkUXVhbGlmaWVyPUEyRlFBN08zRktLVVlYJmVuY3J5cHRlZElkPUEwOTE2OTU1MkUxTE5HS1ZHUzhDSiZlbmNyeXB0ZWRBZElkPUEwMTM2NDU5MlU1UVdBUTRVNzdITSZ3aWRnZXROYW1lPXNwX210ZiZhY3Rpb249Y2xpY2tSZWRpcmVjdCZkb05vdExvZ0NsaWNrPXRydWU=\n",
      "https://www.amazon.com/Premium-Handle-Hardware-Handles-Interior/dp/B07CG518MG/ref=sr_1_15_sspa?crid=2GOYDRV08QR8U&dchild=1&keywords=hardware%2Bdoor%2Bhandles&qid=1610728982&s=hi&sprefix=hardware%2Bdoor%2Ctools%2C221&sr=1-15-spons&spLa=ZW5jcnlwdGVkUXVhbGlmaWVyPUEyRlFBN08zRktLVVlYJmVuY3J5cHRlZElkPUEwOTE2OTU1MkUxTE5HS1ZHUzhDSiZlbmNyeXB0ZWRBZElkPUEwMTM2NDU5MlU1UVdBUTRVNzdITSZ3aWRnZXROYW1lPXNwX210ZiZhY3Rpb249Y2xpY2tSZWRpcmVjdCZkb05vdExvZ0NsaWNrPXRydWU&th=1\n",
      "list index out of range\n",
      "https://www.amazon.com/Premium-Handle-Hardware-Handles-Interior/dp/B07X3ZF5JH/ref=sr_1_15_sspa?crid=2GOYDRV08QR8U&dchild=1&keywords=hardware%2Bdoor%2Bhandles&qid=1610728982&s=hi&sprefix=hardware%2Bdoor%2Ctools%2C221&sr=1-15-spons&spLa=ZW5jcnlwdGVkUXVhbGlmaWVyPUEyRlFBN08zRktLVVlYJmVuY3J5cHRlZElkPUEwOTE2OTU1MkUxTE5HS1ZHUzhDSiZlbmNyeXB0ZWRBZElkPUEwMTM2NDU5MlU1UVdBUTRVNzdITSZ3aWRnZXROYW1lPXNwX210ZiZhY3Rpb249Y2xpY2tSZWRpcmVjdCZkb05vdExvZ0NsaWNrPXRydWU&th=1\n",
      "list index out of range\n",
      "https://www.amazon.com/dp/B0824KQ51L/ref=sspa_dk_detail_5?pd_rd_i=B0824KQ51L&pd_rd_w=0O3D6&pf_rd_p=4269e1a0-a218-4fbd-9748-1cd337d2f2a5&pd_rd_wg=dkN29&pf_rd_r=1KTSWNB82R0CFMFT03BD&pd_rd_r=c0cb4f23-b4a7-4b52-9b4d-93d6234c1977&spLa=ZW5jcnlwdGVkUXVhbGlmaWVyPUEySzMzMzVIMEg0MlZSJmVuY3J5cHRlZElkPUEwOTY5NDAyMlhGTE9aMDUyVk9ZVCZlbmNyeXB0ZWRBZElkPUEwODYyMjkwM0tCOEZNTFJTQk8wTiZ3aWRnZXROYW1lPXNwX2RldGFpbCZhY3Rpb249Y2xpY2tSZWRpcmVjdCZkb05vdExvZ0NsaWNrPXRydWU&th=1\n",
      "list index out of range\n",
      "https://www.amazon.com/Mount-Modern-Outdoor-Exterior-Lighting-Required/dp/B07GC7TW3Y/ref=sr_1_13_sspa?dchild=1&keywords=exterior+light&qid=1611090976&s=hi&sr=1-13-spons&psc=1&spLa=ZW5jcnlwdGVkUXVhbGlmaWVyPUExT0U2TFRDTThXTjlXJmVuY3J5cHRlZElkPUEwNTgwMTE0MllQMEpXUzJIV1VRNSZlbmNyeXB0ZWRBZElkPUEwMjIyOTk4M1VPQU9YMUE2MUlYWSZ3aWRnZXROYW1lPXNwX210ZiZhY3Rpb249Y2xpY2tSZWRpcmVjdCZkb05vdExvZ0NsaWNrPXRydWU=\n",
      "list index out of range\n",
      "https://www.amazon.com/dp/B08P53MWLP/ref=cm_sw_r_oth_api_glt_fabc_DEQ6SKQNVRQEZ4F63YYN\n",
      "https://www.amazon.com/dp/B08MDG3DKN/ref=cm_sw_r_cp_api_glt_fabc_G65NS0H9JA3JY3E758WE\n",
      "https://www.amazon.com/dp/B01L1UMZU0/ref=cm_sw_r_oth_api_glt_fabc_7HJ2ER0Y3GBV3D3QBBAJ\n",
      "list index out of range\n"
     ]
    }
   ],
   "source": [
    "import openpyxl\n",
    "\n",
    "book = openpyxl.load_workbook('products.xlsx')\n",
    "\n",
    "sheet = book.active\n",
    "\n",
    "def getHyperLink(row, column):\n",
    "    link = 'NONE'\n",
    "    try:\n",
    "        link = sheet.cell(row, column).hyperlink.target\n",
    "        return link\n",
    "    except:\n",
    "        return link\n",
    "\n",
    "for i in range(1, 117):\n",
    "    if(\"amazon.com/gp\" in getHyperLink(i,9)):\n",
    "        url = getHyperLink(i,9)\n",
    "        print(url)\n",
    "        response = requests.get(url, headers=header)\n",
    "        soup = BeautifulSoup(response.content, 'html.parser')\n",
    "        amazon_dom = et.HTML(str(soup))\n",
    "        product_price = get_amazon_price(amazon_dom)\n",
    "        if(product_price != 'Not Available'):\n",
    "            product_price = product_price.replace(\"US\", \"\")\n",
    "            sheet.cell(row=i, column=5).value = product_price\n",
    "        \n",
    "\n",
    "book.save('products.xlsx')"
   ]
  },
  {
   "cell_type": "code",
   "execution_count": null,
   "metadata": {},
   "outputs": [],
   "source": []
  }
 ],
 "metadata": {
  "colab": {
   "name": "amazon_master_data_extractor.ipynb",
   "provenance": []
  },
  "kernelspec": {
   "display_name": "Python 3 (ipykernel)",
   "language": "python",
   "name": "python3"
  },
  "language_info": {
   "codemirror_mode": {
    "name": "ipython",
    "version": 3
   },
   "file_extension": ".py",
   "mimetype": "text/x-python",
   "name": "python",
   "nbconvert_exporter": "python",
   "pygments_lexer": "ipython3",
   "version": "3.8.2"
  }
 },
 "nbformat": 4,
 "nbformat_minor": 1
}
